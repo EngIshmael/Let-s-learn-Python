{
 "cells": [
  {
   "cell_type": "code",
   "execution_count": 1,
   "id": "1abee842",
   "metadata": {
    "_cell_guid": "b1076dfc-b9ad-4769-8c92-a6c4dae69d19",
    "_uuid": "8f2839f25d086af736a60e9eeb907d3b93b6e0e5",
    "execution": {
     "iopub.execute_input": "2022-10-07T07:27:26.597638Z",
     "iopub.status.busy": "2022-10-07T07:27:26.596906Z",
     "iopub.status.idle": "2022-10-07T07:27:26.607697Z",
     "shell.execute_reply": "2022-10-07T07:27:26.606516Z"
    },
    "papermill": {
     "duration": 0.018217,
     "end_time": "2022-10-07T07:27:26.610155",
     "exception": false,
     "start_time": "2022-10-07T07:27:26.591938",
     "status": "completed"
    },
    "tags": []
   },
   "outputs": [
    {
     "name": "stdout",
     "output_type": "stream",
     "text": [
      "5\n"
     ]
    }
   ],
   "source": [
    "st = \"hello\"\n",
    "print(len(st))"
   ]
  },
  {
   "cell_type": "code",
   "execution_count": 2,
   "id": "160d8249",
   "metadata": {
    "execution": {
     "iopub.execute_input": "2022-10-07T07:27:26.616420Z",
     "iopub.status.busy": "2022-10-07T07:27:26.615877Z",
     "iopub.status.idle": "2022-10-07T07:27:26.624282Z",
     "shell.execute_reply": "2022-10-07T07:27:26.623231Z"
    },
    "papermill": {
     "duration": 0.01368,
     "end_time": "2022-10-07T07:27:26.626320",
     "exception": false,
     "start_time": "2022-10-07T07:27:26.612640",
     "status": "completed"
    },
    "tags": []
   },
   "outputs": [
    {
     "data": {
      "text/plain": [
       "'st'"
      ]
     },
     "execution_count": 2,
     "metadata": {},
     "output_type": "execute_result"
    }
   ],
   "source": [
    "ST =\"desktop\"\n",
    "ST[2:5:2]"
   ]
  },
  {
   "cell_type": "code",
   "execution_count": 3,
   "id": "a5cf19a1",
   "metadata": {
    "execution": {
     "iopub.execute_input": "2022-10-07T07:27:26.632662Z",
     "iopub.status.busy": "2022-10-07T07:27:26.632079Z",
     "iopub.status.idle": "2022-10-07T07:27:26.638320Z",
     "shell.execute_reply": "2022-10-07T07:27:26.637519Z"
    },
    "papermill": {
     "duration": 0.011587,
     "end_time": "2022-10-07T07:27:26.640287",
     "exception": false,
     "start_time": "2022-10-07T07:27:26.628700",
     "status": "completed"
    },
    "tags": []
   },
   "outputs": [
    {
     "data": {
      "text/plain": [
       "'sktop'"
      ]
     },
     "execution_count": 3,
     "metadata": {},
     "output_type": "execute_result"
    }
   ],
   "source": [
    "ST =\"desktop\"\n",
    "ST[2:]"
   ]
  },
  {
   "cell_type": "code",
   "execution_count": 4,
   "id": "d0ad7207",
   "metadata": {
    "execution": {
     "iopub.execute_input": "2022-10-07T07:27:26.646763Z",
     "iopub.status.busy": "2022-10-07T07:27:26.646179Z",
     "iopub.status.idle": "2022-10-07T07:27:26.653062Z",
     "shell.execute_reply": "2022-10-07T07:27:26.651583Z"
    },
    "papermill": {
     "duration": 0.012711,
     "end_time": "2022-10-07T07:27:26.655411",
     "exception": false,
     "start_time": "2022-10-07T07:27:26.642700",
     "status": "completed"
    },
    "tags": []
   },
   "outputs": [
    {
     "data": {
      "text/plain": [
       "'deskt'"
      ]
     },
     "execution_count": 4,
     "metadata": {},
     "output_type": "execute_result"
    }
   ],
   "source": [
    "ST =\"desktop\"\n",
    "ST[:5]"
   ]
  },
  {
   "cell_type": "code",
   "execution_count": 5,
   "id": "91938781",
   "metadata": {
    "execution": {
     "iopub.execute_input": "2022-10-07T07:27:26.662135Z",
     "iopub.status.busy": "2022-10-07T07:27:26.661546Z",
     "iopub.status.idle": "2022-10-07T07:27:26.668089Z",
     "shell.execute_reply": "2022-10-07T07:27:26.667188Z"
    },
    "papermill": {
     "duration": 0.012352,
     "end_time": "2022-10-07T07:27:26.670225",
     "exception": false,
     "start_time": "2022-10-07T07:27:26.657873",
     "status": "completed"
    },
    "tags": []
   },
   "outputs": [
    {
     "data": {
      "text/plain": [
       "'erutluc'"
      ]
     },
     "execution_count": 5,
     "metadata": {},
     "output_type": "execute_result"
    }
   ],
   "source": [
    "st = \"culture\"\n",
    "st[::-1]"
   ]
  }
 ],
 "metadata": {
  "kernelspec": {
   "display_name": "Python 3",
   "language": "python",
   "name": "python3"
  },
  "language_info": {
   "codemirror_mode": {
    "name": "ipython",
    "version": 3
   },
   "file_extension": ".py",
   "mimetype": "text/x-python",
   "name": "python",
   "nbconvert_exporter": "python",
   "pygments_lexer": "ipython3",
   "version": "3.7.12"
  },
  "papermill": {
   "default_parameters": {},
   "duration": 9.37681,
   "end_time": "2022-10-07T07:27:27.296329",
   "environment_variables": {},
   "exception": null,
   "input_path": "__notebook__.ipynb",
   "output_path": "__notebook__.ipynb",
   "parameters": {},
   "start_time": "2022-10-07T07:27:17.919519",
   "version": "2.3.4"
  }
 },
 "nbformat": 4,
 "nbformat_minor": 5
}
