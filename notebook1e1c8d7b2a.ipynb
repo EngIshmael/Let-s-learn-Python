{
 "cells": [
  {
   "cell_type": "code",
   "execution_count": 1,
   "id": "e1cecf20",
   "metadata": {
    "_cell_guid": "b1076dfc-b9ad-4769-8c92-a6c4dae69d19",
    "_uuid": "8f2839f25d086af736a60e9eeb907d3b93b6e0e5",
    "execution": {
     "iopub.execute_input": "2022-10-07T07:22:42.998151Z",
     "iopub.status.busy": "2022-10-07T07:22:42.997630Z",
     "iopub.status.idle": "2022-10-07T07:22:43.010191Z",
     "shell.execute_reply": "2022-10-07T07:22:43.008765Z"
    },
    "papermill": {
     "duration": 0.020736,
     "end_time": "2022-10-07T07:22:43.013096",
     "exception": false,
     "start_time": "2022-10-07T07:22:42.992360",
     "status": "completed"
    },
    "tags": []
   },
   "outputs": [
    {
     "name": "stdout",
     "output_type": "stream",
     "text": [
      "5\n"
     ]
    }
   ],
   "source": [
    "st = \"hello\"\n",
    "print(len(st))"
   ]
  },
  {
   "cell_type": "code",
   "execution_count": 2,
   "id": "5c3898c7",
   "metadata": {
    "execution": {
     "iopub.execute_input": "2022-10-07T07:22:43.019733Z",
     "iopub.status.busy": "2022-10-07T07:22:43.019295Z",
     "iopub.status.idle": "2022-10-07T07:22:43.028455Z",
     "shell.execute_reply": "2022-10-07T07:22:43.027306Z"
    },
    "papermill": {
     "duration": 0.014963,
     "end_time": "2022-10-07T07:22:43.030826",
     "exception": false,
     "start_time": "2022-10-07T07:22:43.015863",
     "status": "completed"
    },
    "tags": []
   },
   "outputs": [
    {
     "data": {
      "text/plain": [
       "'st'"
      ]
     },
     "execution_count": 2,
     "metadata": {},
     "output_type": "execute_result"
    }
   ],
   "source": [
    "ST =\"desktop\"\n",
    "ST[2:5:2]"
   ]
  },
  {
   "cell_type": "code",
   "execution_count": 3,
   "id": "d293a362",
   "metadata": {
    "execution": {
     "iopub.execute_input": "2022-10-07T07:22:43.037369Z",
     "iopub.status.busy": "2022-10-07T07:22:43.036567Z",
     "iopub.status.idle": "2022-10-07T07:22:43.043568Z",
     "shell.execute_reply": "2022-10-07T07:22:43.042620Z"
    },
    "papermill": {
     "duration": 0.012828,
     "end_time": "2022-10-07T07:22:43.045913",
     "exception": false,
     "start_time": "2022-10-07T07:22:43.033085",
     "status": "completed"
    },
    "tags": []
   },
   "outputs": [
    {
     "data": {
      "text/plain": [
       "'sktop'"
      ]
     },
     "execution_count": 3,
     "metadata": {},
     "output_type": "execute_result"
    }
   ],
   "source": [
    "ST =\"desktop\"\n",
    "ST[2:]"
   ]
  },
  {
   "cell_type": "code",
   "execution_count": 4,
   "id": "67f585fd",
   "metadata": {
    "execution": {
     "iopub.execute_input": "2022-10-07T07:22:43.052871Z",
     "iopub.status.busy": "2022-10-07T07:22:43.052120Z",
     "iopub.status.idle": "2022-10-07T07:22:43.058664Z",
     "shell.execute_reply": "2022-10-07T07:22:43.057571Z"
    },
    "papermill": {
     "duration": 0.012885,
     "end_time": "2022-10-07T07:22:43.061196",
     "exception": false,
     "start_time": "2022-10-07T07:22:43.048311",
     "status": "completed"
    },
    "tags": []
   },
   "outputs": [
    {
     "data": {
      "text/plain": [
       "'deskt'"
      ]
     },
     "execution_count": 4,
     "metadata": {},
     "output_type": "execute_result"
    }
   ],
   "source": [
    "ST =\"desktop\"\n",
    "ST[:5]"
   ]
  }
 ],
 "metadata": {
  "kernelspec": {
   "display_name": "Python 3",
   "language": "python",
   "name": "python3"
  },
  "language_info": {
   "codemirror_mode": {
    "name": "ipython",
    "version": 3
   },
   "file_extension": ".py",
   "mimetype": "text/x-python",
   "name": "python",
   "nbconvert_exporter": "python",
   "pygments_lexer": "ipython3",
   "version": "3.7.12"
  },
  "papermill": {
   "default_parameters": {},
   "duration": 9.963659,
   "end_time": "2022-10-07T07:22:43.686946",
   "environment_variables": {},
   "exception": null,
   "input_path": "__notebook__.ipynb",
   "output_path": "__notebook__.ipynb",
   "parameters": {},
   "start_time": "2022-10-07T07:22:33.723287",
   "version": "2.3.4"
  }
 },
 "nbformat": 4,
 "nbformat_minor": 5
}
