{
 "cells": [
  {
   "cell_type": "code",
   "execution_count": 1,
   "id": "ce04a639",
   "metadata": {
    "_cell_guid": "b1076dfc-b9ad-4769-8c92-a6c4dae69d19",
    "_uuid": "8f2839f25d086af736a60e9eeb907d3b93b6e0e5",
    "execution": {
     "iopub.execute_input": "2022-10-07T07:15:06.848037Z",
     "iopub.status.busy": "2022-10-07T07:15:06.847352Z",
     "iopub.status.idle": "2022-10-07T07:15:06.860397Z",
     "shell.execute_reply": "2022-10-07T07:15:06.859069Z"
    },
    "papermill": {
     "duration": 0.023116,
     "end_time": "2022-10-07T07:15:06.864476",
     "exception": false,
     "start_time": "2022-10-07T07:15:06.841360",
     "status": "completed"
    },
    "tags": []
   },
   "outputs": [
    {
     "name": "stdout",
     "output_type": "stream",
     "text": [
      "5\n"
     ]
    }
   ],
   "source": [
    "st = \"hello\"\n",
    "print(len(st))"
   ]
  },
  {
   "cell_type": "code",
   "execution_count": 2,
   "id": "5e520f5e",
   "metadata": {
    "execution": {
     "iopub.execute_input": "2022-10-07T07:15:06.870773Z",
     "iopub.status.busy": "2022-10-07T07:15:06.870300Z",
     "iopub.status.idle": "2022-10-07T07:15:06.879999Z",
     "shell.execute_reply": "2022-10-07T07:15:06.878701Z"
    },
    "papermill": {
     "duration": 0.015629,
     "end_time": "2022-10-07T07:15:06.882548",
     "exception": false,
     "start_time": "2022-10-07T07:15:06.866919",
     "status": "completed"
    },
    "tags": []
   },
   "outputs": [
    {
     "data": {
      "text/plain": [
       "'st'"
      ]
     },
     "execution_count": 2,
     "metadata": {},
     "output_type": "execute_result"
    }
   ],
   "source": [
    "ST =\"desktop\"\n",
    "ST[2:5:2]"
   ]
  }
 ],
 "metadata": {
  "kernelspec": {
   "display_name": "Python 3",
   "language": "python",
   "name": "python3"
  },
  "language_info": {
   "codemirror_mode": {
    "name": "ipython",
    "version": 3
   },
   "file_extension": ".py",
   "mimetype": "text/x-python",
   "name": "python",
   "nbconvert_exporter": "python",
   "pygments_lexer": "ipython3",
   "version": "3.7.12"
  },
  "papermill": {
   "default_parameters": {},
   "duration": 12.644791,
   "end_time": "2022-10-07T07:15:07.910824",
   "environment_variables": {},
   "exception": null,
   "input_path": "__notebook__.ipynb",
   "output_path": "__notebook__.ipynb",
   "parameters": {},
   "start_time": "2022-10-07T07:14:55.266033",
   "version": "2.3.4"
  }
 },
 "nbformat": 4,
 "nbformat_minor": 5
}
