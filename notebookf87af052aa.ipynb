{
 "cells": [
  {
   "cell_type": "markdown",
   "id": "b4674401",
   "metadata": {
    "_cell_guid": "b1076dfc-b9ad-4769-8c92-a6c4dae69d19",
    "_uuid": "8f2839f25d086af736a60e9eeb907d3b93b6e0e5",
    "papermill": {
     "duration": 0.003493,
     "end_time": "2022-10-07T05:45:28.515320",
     "exception": false,
     "start_time": "2022-10-07T05:45:28.511827",
     "status": "completed"
    },
    "tags": []
   },
   "source": []
  },
  {
   "cell_type": "code",
   "execution_count": 1,
   "id": "5249a84e",
   "metadata": {
    "execution": {
     "iopub.execute_input": "2022-10-07T05:45:28.522357Z",
     "iopub.status.busy": "2022-10-07T05:45:28.521057Z",
     "iopub.status.idle": "2022-10-07T05:45:28.534087Z",
     "shell.execute_reply": "2022-10-07T05:45:28.532877Z"
    },
    "papermill": {
     "duration": 0.019961,
     "end_time": "2022-10-07T05:45:28.537569",
     "exception": false,
     "start_time": "2022-10-07T05:45:28.517608",
     "status": "completed"
    },
    "tags": []
   },
   "outputs": [
    {
     "name": "stdout",
     "output_type": "stream",
     "text": [
      "5,7,9,11,13,15,17,19,21,23,25,27,29,31,33,35,37,39,41,43,45,47,49,51,53,55,57,59,61,63,65,67,69,71,73,75,"
     ]
    }
   ],
   "source": [
    "i=5\n",
    "while(i<77):\n",
    "    print(i, end=\",\")\n",
    "    i=i+2"
   ]
  }
 ],
 "metadata": {
  "kernelspec": {
   "display_name": "Python 3",
   "language": "python",
   "name": "python3"
  },
  "language_info": {
   "codemirror_mode": {
    "name": "ipython",
    "version": 3
   },
   "file_extension": ".py",
   "mimetype": "text/x-python",
   "name": "python",
   "nbconvert_exporter": "python",
   "pygments_lexer": "ipython3",
   "version": "3.7.12"
  },
  "papermill": {
   "default_parameters": {},
   "duration": 11.694476,
   "end_time": "2022-10-07T05:45:29.263086",
   "environment_variables": {},
   "exception": null,
   "input_path": "__notebook__.ipynb",
   "output_path": "__notebook__.ipynb",
   "parameters": {},
   "start_time": "2022-10-07T05:45:17.568610",
   "version": "2.3.4"
  }
 },
 "nbformat": 4,
 "nbformat_minor": 5
}
