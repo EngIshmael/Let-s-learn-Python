{
 "cells": [
  {
   "cell_type": "markdown",
   "id": "b8c940f5",
   "metadata": {
    "_cell_guid": "b1076dfc-b9ad-4769-8c92-a6c4dae69d19",
    "_uuid": "8f2839f25d086af736a60e9eeb907d3b93b6e0e5",
    "papermill": {
     "duration": 0.002124,
     "end_time": "2022-10-07T05:57:55.926932",
     "exception": false,
     "start_time": "2022-10-07T05:57:55.924808",
     "status": "completed"
    },
    "tags": []
   },
   "source": []
  },
  {
   "cell_type": "code",
   "execution_count": 1,
   "id": "757dc0e6",
   "metadata": {
    "execution": {
     "iopub.execute_input": "2022-10-07T05:57:55.931759Z",
     "iopub.status.busy": "2022-10-07T05:57:55.931133Z",
     "iopub.status.idle": "2022-10-07T05:57:55.941495Z",
     "shell.execute_reply": "2022-10-07T05:57:55.940562Z"
    },
    "papermill": {
     "duration": 0.015126,
     "end_time": "2022-10-07T05:57:55.943548",
     "exception": false,
     "start_time": "2022-10-07T05:57:55.928422",
     "status": "completed"
    },
    "tags": []
   },
   "outputs": [
    {
     "name": "stdout",
     "output_type": "stream",
     "text": [
      "5,7,9,11,13,15,17,19,21,23,25,27,29,31,33,35,37,39,41,43,45,47,49,51,53,55,57,59,61,63,65,67,69,71,73,75,"
     ]
    }
   ],
   "source": [
    "i=5\n",
    "while(i<77):\n",
    "    print(i, end=\",\")\n",
    "    i=i+2"
   ]
  },
  {
   "cell_type": "code",
   "execution_count": 2,
   "id": "7ddd113b",
   "metadata": {
    "execution": {
     "iopub.execute_input": "2022-10-07T05:57:55.948369Z",
     "iopub.status.busy": "2022-10-07T05:57:55.947792Z",
     "iopub.status.idle": "2022-10-07T05:57:55.953422Z",
     "shell.execute_reply": "2022-10-07T05:57:55.951862Z"
    },
    "papermill": {
     "duration": 0.0109,
     "end_time": "2022-10-07T05:57:55.956007",
     "exception": false,
     "start_time": "2022-10-07T05:57:55.945107",
     "status": "completed"
    },
    "tags": []
   },
   "outputs": [
    {
     "name": "stdout",
     "output_type": "stream",
     "text": [
      "*\t*\t*\t*\t*\t*\t*\t*\t*\t*\t\n",
      "\n",
      "*\t*\t*\t*\t*\t*\t*\t*\t*\t\n",
      "\n",
      "*\t*\t*\t*\t*\t*\t*\t*\t\n",
      "\n",
      "*\t*\t*\t*\t*\t*\t*\t\n",
      "\n",
      "*\t*\t*\t*\t*\t*\t\n",
      "\n",
      "*\t*\t*\t*\t*\t\n",
      "\n",
      "*\t*\t*\t*\t\n",
      "\n",
      "*\t*\t*\t\n",
      "\n",
      "*\t*\t\n",
      "\n",
      "*\t\n",
      "\n"
     ]
    }
   ],
   "source": [
    "i=10\n",
    "while (i>= 1):\n",
    "    j=1\n",
    "    while(j<= i):\n",
    "        print(\"*\",end=\"\\t\")\n",
    "        j=j+1\n",
    "    print(\"\\n\")\n",
    "    i=i-1"
   ]
  }
 ],
 "metadata": {
  "kernelspec": {
   "display_name": "Python 3",
   "language": "python",
   "name": "python3"
  },
  "language_info": {
   "codemirror_mode": {
    "name": "ipython",
    "version": 3
   },
   "file_extension": ".py",
   "mimetype": "text/x-python",
   "name": "python",
   "nbconvert_exporter": "python",
   "pygments_lexer": "ipython3",
   "version": "3.7.12"
  },
  "papermill": {
   "default_parameters": {},
   "duration": 8.818236,
   "end_time": "2022-10-07T05:57:56.578046",
   "environment_variables": {},
   "exception": null,
   "input_path": "__notebook__.ipynb",
   "output_path": "__notebook__.ipynb",
   "parameters": {},
   "start_time": "2022-10-07T05:57:47.759810",
   "version": "2.3.4"
  }
 },
 "nbformat": 4,
 "nbformat_minor": 5
}
