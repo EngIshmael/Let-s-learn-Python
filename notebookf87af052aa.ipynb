{
 "cells": [
  {
   "cell_type": "markdown",
   "id": "cc69721e",
   "metadata": {
    "_cell_guid": "b1076dfc-b9ad-4769-8c92-a6c4dae69d19",
    "_uuid": "8f2839f25d086af736a60e9eeb907d3b93b6e0e5",
    "papermill": {
     "duration": 0.003178,
     "end_time": "2022-10-07T06:04:32.259844",
     "exception": false,
     "start_time": "2022-10-07T06:04:32.256666",
     "status": "completed"
    },
    "tags": []
   },
   "source": []
  },
  {
   "cell_type": "code",
   "execution_count": 1,
   "id": "4eccd6b8",
   "metadata": {
    "execution": {
     "iopub.execute_input": "2022-10-07T06:04:32.271457Z",
     "iopub.status.busy": "2022-10-07T06:04:32.270817Z",
     "iopub.status.idle": "2022-10-07T06:04:32.289310Z",
     "shell.execute_reply": "2022-10-07T06:04:32.287000Z"
    },
    "papermill": {
     "duration": 0.030483,
     "end_time": "2022-10-07T06:04:32.292629",
     "exception": false,
     "start_time": "2022-10-07T06:04:32.262146",
     "status": "completed"
    },
    "tags": []
   },
   "outputs": [
    {
     "name": "stdout",
     "output_type": "stream",
     "text": [
      "5,7,9,11,13,15,17,19,21,23,25,27,29,31,33,35,37,39,41,43,45,47,49,51,53,55,57,59,61,63,65,67,69,71,73,75,"
     ]
    }
   ],
   "source": [
    "i=5\n",
    "while(i<77):\n",
    "    print(i, end=\",\")\n",
    "    i=i+2"
   ]
  },
  {
   "cell_type": "code",
   "execution_count": 2,
   "id": "f176e385",
   "metadata": {
    "execution": {
     "iopub.execute_input": "2022-10-07T06:04:32.301322Z",
     "iopub.status.busy": "2022-10-07T06:04:32.300294Z",
     "iopub.status.idle": "2022-10-07T06:04:32.310773Z",
     "shell.execute_reply": "2022-10-07T06:04:32.309250Z"
    },
    "papermill": {
     "duration": 0.018455,
     "end_time": "2022-10-07T06:04:32.313693",
     "exception": false,
     "start_time": "2022-10-07T06:04:32.295238",
     "status": "completed"
    },
    "tags": []
   },
   "outputs": [
    {
     "name": "stdout",
     "output_type": "stream",
     "text": [
      "*\t*\t*\t*\t*\t*\t*\t*\t*\t*\t\n",
      "\n",
      "*\t*\t*\t*\t*\t*\t*\t*\t*\t\n",
      "\n",
      "*\t*\t*\t*\t*\t*\t*\t*\t\n",
      "\n",
      "*\t*\t*\t*\t*\t*\t*\t\n",
      "\n",
      "*\t*\t*\t*\t*\t*\t\n",
      "\n",
      "*\t*\t*\t*\t*\t\n",
      "\n",
      "*\t*\t*\t*\t\n",
      "\n",
      "*\t*\t*\t\n",
      "\n",
      "*\t*\t\n",
      "\n",
      "*\t\n",
      "\n"
     ]
    }
   ],
   "source": [
    "i=10\n",
    "while (i>= 1):\n",
    "    j=1\n",
    "    while(j<= i):\n",
    "        print(\"*\",end=\"\\t\")\n",
    "        j=j+1\n",
    "    print(\"\\n\")\n",
    "    i=i-1"
   ]
  },
  {
   "cell_type": "code",
   "execution_count": 3,
   "id": "2cf52a9d",
   "metadata": {
    "execution": {
     "iopub.execute_input": "2022-10-07T06:04:32.321459Z",
     "iopub.status.busy": "2022-10-07T06:04:32.319900Z",
     "iopub.status.idle": "2022-10-07T06:04:32.333222Z",
     "shell.execute_reply": "2022-10-07T06:04:32.330618Z"
    },
    "papermill": {
     "duration": 0.022312,
     "end_time": "2022-10-07T06:04:32.338430",
     "exception": false,
     "start_time": "2022-10-07T06:04:32.316118",
     "status": "completed"
    },
    "tags": []
   },
   "outputs": [
    {
     "name": "stdout",
     "output_type": "stream",
     "text": [
      "*\t\n",
      "\n",
      "*\t*\t\n",
      "\n",
      "*\t*\t*\t\n",
      "\n",
      "*\t*\t*\t*\t\n",
      "\n",
      "*\t*\t*\t*\t*\t\n",
      "\n",
      "*\t*\t*\t*\t*\t*\t\n",
      "\n",
      "*\t*\t*\t*\t*\t*\t*\t\n",
      "\n",
      "*\t*\t*\t*\t*\t*\t*\t*\t\n",
      "\n",
      "*\t*\t*\t*\t*\t*\t*\t*\t*\t\n",
      "\n",
      "*\t*\t*\t*\t*\t*\t*\t*\t*\t*\t\n",
      "\n"
     ]
    }
   ],
   "source": [
    "i=1\n",
    "while(i <= 10):\n",
    "    j=1\n",
    "    while(j<=i):\n",
    "        print(\"*\", end=\"\\t\")\n",
    "        j =j +1\n",
    "    print(\"\\n\")\n",
    "    i=i+1"
   ]
  }
 ],
 "metadata": {
  "kernelspec": {
   "display_name": "Python 3",
   "language": "python",
   "name": "python3"
  },
  "language_info": {
   "codemirror_mode": {
    "name": "ipython",
    "version": 3
   },
   "file_extension": ".py",
   "mimetype": "text/x-python",
   "name": "python",
   "nbconvert_exporter": "python",
   "pygments_lexer": "ipython3",
   "version": "3.7.12"
  },
  "papermill": {
   "default_parameters": {},
   "duration": 12.202108,
   "end_time": "2022-10-07T06:04:33.066573",
   "environment_variables": {},
   "exception": null,
   "input_path": "__notebook__.ipynb",
   "output_path": "__notebook__.ipynb",
   "parameters": {},
   "start_time": "2022-10-07T06:04:20.864465",
   "version": "2.3.4"
  }
 },
 "nbformat": 4,
 "nbformat_minor": 5
}
